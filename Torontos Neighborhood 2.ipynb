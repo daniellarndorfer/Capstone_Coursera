{
    "cells": [
        {
            "cell_type": "markdown",
            "metadata": {
                "collapsed": true
            },
            "source": "# Coursera Capstone - Week 3 - Torontos Neighborhood"
        },
        {
            "cell_type": "code",
            "execution_count": 88,
            "metadata": {},
            "outputs": [
                {
                    "data": {
                        "text/html": "<div>\n<style scoped>\n    .dataframe tbody tr th:only-of-type {\n        vertical-align: middle;\n    }\n\n    .dataframe tbody tr th {\n        vertical-align: top;\n    }\n\n    .dataframe thead th {\n        text-align: right;\n    }\n</style>\n<table border=\"1\" class=\"dataframe\">\n  <thead>\n    <tr style=\"text-align: right;\">\n      <th></th>\n      <th>PostalCode</th>\n      <th>Borough</th>\n      <th>Neighborhood</th>\n    </tr>\n  </thead>\n  <tbody>\n    <tr>\n      <th>0</th>\n      <td>M1A</td>\n      <td>Not assigned</td>\n      <td>NaN</td>\n    </tr>\n    <tr>\n      <th>1</th>\n      <td>M2A</td>\n      <td>Not assigned</td>\n      <td>NaN</td>\n    </tr>\n    <tr>\n      <th>2</th>\n      <td>M3A</td>\n      <td>North York</td>\n      <td>Parkwoods</td>\n    </tr>\n    <tr>\n      <th>3</th>\n      <td>M4A</td>\n      <td>North York</td>\n      <td>Victoria Village</td>\n    </tr>\n    <tr>\n      <th>4</th>\n      <td>M5A</td>\n      <td>Downtown Toronto</td>\n      <td>Regent Park / Harbourfront</td>\n    </tr>\n  </tbody>\n</table>\n</div>",
                        "text/plain": "  PostalCode           Borough                Neighborhood\n0        M1A      Not assigned                         NaN\n1        M2A      Not assigned                         NaN\n2        M3A        North York                   Parkwoods\n3        M4A        North York            Victoria Village\n4        M5A  Downtown Toronto  Regent Park / Harbourfront"
                    },
                    "execution_count": 88,
                    "metadata": {},
                    "output_type": "execute_result"
                }
            ],
            "source": "import pandas as pd\nimport matplotlib.pylab as plt\n\nfrom pandas.io.html import read_html\npage = 'https://en.wikipedia.org/wiki/List_of_postal_codes_of_Canada:_M'\n\nwikitables = read_html(page,  attrs={\"class\":\"wikitable\"})\n\ndf = wikitables[0]\ndf.columns = ['PostalCode','Borough','Neighborhood']\ndf.head()"
        },
        {
            "cell_type": "code",
            "execution_count": 89,
            "metadata": {},
            "outputs": [
                {
                    "data": {
                        "text/html": "<div>\n<style scoped>\n    .dataframe tbody tr th:only-of-type {\n        vertical-align: middle;\n    }\n\n    .dataframe tbody tr th {\n        vertical-align: top;\n    }\n\n    .dataframe thead th {\n        text-align: right;\n    }\n</style>\n<table border=\"1\" class=\"dataframe\">\n  <thead>\n    <tr style=\"text-align: right;\">\n      <th></th>\n      <th>PostalCode</th>\n      <th>Borough</th>\n      <th>Neighborhood</th>\n    </tr>\n  </thead>\n  <tbody>\n    <tr>\n      <th>2</th>\n      <td>M3A</td>\n      <td>North York</td>\n      <td>Parkwoods</td>\n    </tr>\n    <tr>\n      <th>3</th>\n      <td>M4A</td>\n      <td>North York</td>\n      <td>Victoria Village</td>\n    </tr>\n    <tr>\n      <th>4</th>\n      <td>M5A</td>\n      <td>Downtown Toronto</td>\n      <td>Regent Park / Harbourfront</td>\n    </tr>\n    <tr>\n      <th>5</th>\n      <td>M6A</td>\n      <td>North York</td>\n      <td>Lawrence Manor / Lawrence Heights</td>\n    </tr>\n    <tr>\n      <th>6</th>\n      <td>M7A</td>\n      <td>Downtown Toronto</td>\n      <td>Queen's Park / Ontario Provincial Government</td>\n    </tr>\n  </tbody>\n</table>\n</div>",
                        "text/plain": "  PostalCode           Borough                                  Neighborhood\n2        M3A        North York                                     Parkwoods\n3        M4A        North York                              Victoria Village\n4        M5A  Downtown Toronto                    Regent Park / Harbourfront\n5        M6A        North York             Lawrence Manor / Lawrence Heights\n6        M7A  Downtown Toronto  Queen's Park / Ontario Provincial Government"
                    },
                    "execution_count": 89,
                    "metadata": {},
                    "output_type": "execute_result"
                }
            ],
            "source": "#ignore cells from Borough that are \"Not assigned\"\ndf_Codes=df[df['Borough'] != 'Not assigned']\ndf_Codes.head()"
        },
        {
            "cell_type": "code",
            "execution_count": 90,
            "metadata": {},
            "outputs": [
                {
                    "data": {
                        "text/plain": "(103, 3)"
                    },
                    "execution_count": 90,
                    "metadata": {},
                    "output_type": "execute_result"
                }
            ],
            "source": "df_Codes.shape"
        },
        {
            "cell_type": "code",
            "execution_count": 91,
            "metadata": {},
            "outputs": [],
            "source": "df_Coordination = pd.read_csv ('http://cocl.us/Geospatial_data')\ndf_Coordination.columns = ['PostalCode','Latitude','Longitude']"
        },
        {
            "cell_type": "code",
            "execution_count": 97,
            "metadata": {},
            "outputs": [
                {
                    "data": {
                        "text/html": "<div>\n<style scoped>\n    .dataframe tbody tr th:only-of-type {\n        vertical-align: middle;\n    }\n\n    .dataframe tbody tr th {\n        vertical-align: top;\n    }\n\n    .dataframe thead th {\n        text-align: right;\n    }\n</style>\n<table border=\"1\" class=\"dataframe\">\n  <thead>\n    <tr style=\"text-align: right;\">\n      <th></th>\n      <th>PostalCode</th>\n      <th>Latitude</th>\n      <th>Longitude</th>\n    </tr>\n  </thead>\n  <tbody>\n    <tr>\n      <th>0</th>\n      <td>M1B</td>\n      <td>43.806686</td>\n      <td>-79.194353</td>\n    </tr>\n    <tr>\n      <th>1</th>\n      <td>M1C</td>\n      <td>43.784535</td>\n      <td>-79.160497</td>\n    </tr>\n    <tr>\n      <th>2</th>\n      <td>M1E</td>\n      <td>43.763573</td>\n      <td>-79.188711</td>\n    </tr>\n    <tr>\n      <th>3</th>\n      <td>M1G</td>\n      <td>43.770992</td>\n      <td>-79.216917</td>\n    </tr>\n    <tr>\n      <th>4</th>\n      <td>M1H</td>\n      <td>43.773136</td>\n      <td>-79.239476</td>\n    </tr>\n  </tbody>\n</table>\n</div>",
                        "text/plain": "  PostalCode   Latitude  Longitude\n0        M1B  43.806686 -79.194353\n1        M1C  43.784535 -79.160497\n2        M1E  43.763573 -79.188711\n3        M1G  43.770992 -79.216917\n4        M1H  43.773136 -79.239476"
                    },
                    "execution_count": 97,
                    "metadata": {},
                    "output_type": "execute_result"
                }
            ],
            "source": "df_Coordination.head()"
        },
        {
            "cell_type": "code",
            "execution_count": 105,
            "metadata": {},
            "outputs": [
                {
                    "name": "stderr",
                    "output_type": "stream",
                    "text": "/opt/conda/envs/Python36/lib/python3.6/site-packages/ipykernel/__main__.py:2: FutureWarning: Sorting because non-concatenation axis is not aligned. A future version\nof pandas will change to not sort by default.\n\nTo accept the future behavior, pass 'sort=False'.\n\nTo retain the current behavior and silence the warning, pass 'sort=True'.\n\n  from ipykernel import kernelapp as app\n"
                },
                {
                    "data": {
                        "text/html": "<div>\n<style scoped>\n    .dataframe tbody tr th:only-of-type {\n        vertical-align: middle;\n    }\n\n    .dataframe tbody tr th {\n        vertical-align: top;\n    }\n\n    .dataframe thead th {\n        text-align: right;\n    }\n</style>\n<table border=\"1\" class=\"dataframe\">\n  <thead>\n    <tr style=\"text-align: right;\">\n      <th></th>\n      <th>Borough</th>\n      <th>Latitude</th>\n      <th>Longitude</th>\n      <th>Neighborhood</th>\n      <th>PostalCode</th>\n    </tr>\n  </thead>\n  <tbody>\n    <tr>\n      <th>2</th>\n      <td>North York</td>\n      <td>NaN</td>\n      <td>NaN</td>\n      <td>Parkwoods</td>\n      <td>M3A</td>\n    </tr>\n    <tr>\n      <th>3</th>\n      <td>North York</td>\n      <td>NaN</td>\n      <td>NaN</td>\n      <td>Victoria Village</td>\n      <td>M4A</td>\n    </tr>\n    <tr>\n      <th>4</th>\n      <td>Downtown Toronto</td>\n      <td>NaN</td>\n      <td>NaN</td>\n      <td>Regent Park / Harbourfront</td>\n      <td>M5A</td>\n    </tr>\n    <tr>\n      <th>5</th>\n      <td>North York</td>\n      <td>NaN</td>\n      <td>NaN</td>\n      <td>Lawrence Manor / Lawrence Heights</td>\n      <td>M6A</td>\n    </tr>\n    <tr>\n      <th>6</th>\n      <td>Downtown Toronto</td>\n      <td>NaN</td>\n      <td>NaN</td>\n      <td>Queen's Park / Ontario Provincial Government</td>\n      <td>M7A</td>\n    </tr>\n    <tr>\n      <th>8</th>\n      <td>Etobicoke</td>\n      <td>NaN</td>\n      <td>NaN</td>\n      <td>Islington Avenue</td>\n      <td>M9A</td>\n    </tr>\n    <tr>\n      <th>9</th>\n      <td>Scarborough</td>\n      <td>NaN</td>\n      <td>NaN</td>\n      <td>Malvern / Rouge</td>\n      <td>M1B</td>\n    </tr>\n    <tr>\n      <th>11</th>\n      <td>North York</td>\n      <td>NaN</td>\n      <td>NaN</td>\n      <td>Don Mills</td>\n      <td>M3B</td>\n    </tr>\n    <tr>\n      <th>12</th>\n      <td>East York</td>\n      <td>NaN</td>\n      <td>NaN</td>\n      <td>Parkview Hill / Woodbine Gardens</td>\n      <td>M4B</td>\n    </tr>\n    <tr>\n      <th>13</th>\n      <td>Downtown Toronto</td>\n      <td>NaN</td>\n      <td>NaN</td>\n      <td>Garden District, Ryerson</td>\n      <td>M5B</td>\n    </tr>\n    <tr>\n      <th>14</th>\n      <td>North York</td>\n      <td>NaN</td>\n      <td>NaN</td>\n      <td>Glencairn</td>\n      <td>M6B</td>\n    </tr>\n    <tr>\n      <th>17</th>\n      <td>Etobicoke</td>\n      <td>NaN</td>\n      <td>NaN</td>\n      <td>West Deane Park / Princess Gardens / Martin Gr...</td>\n      <td>M9B</td>\n    </tr>\n    <tr>\n      <th>18</th>\n      <td>Scarborough</td>\n      <td>NaN</td>\n      <td>NaN</td>\n      <td>Rouge Hill / Port Union / Highland Creek</td>\n      <td>M1C</td>\n    </tr>\n    <tr>\n      <th>20</th>\n      <td>North York</td>\n      <td>NaN</td>\n      <td>NaN</td>\n      <td>Don Mills</td>\n      <td>M3C</td>\n    </tr>\n    <tr>\n      <th>21</th>\n      <td>East York</td>\n      <td>NaN</td>\n      <td>NaN</td>\n      <td>Woodbine Heights</td>\n      <td>M4C</td>\n    </tr>\n    <tr>\n      <th>22</th>\n      <td>Downtown Toronto</td>\n      <td>NaN</td>\n      <td>NaN</td>\n      <td>St. James Town</td>\n      <td>M5C</td>\n    </tr>\n    <tr>\n      <th>23</th>\n      <td>York</td>\n      <td>NaN</td>\n      <td>NaN</td>\n      <td>Humewood-Cedarvale</td>\n      <td>M6C</td>\n    </tr>\n    <tr>\n      <th>26</th>\n      <td>Etobicoke</td>\n      <td>NaN</td>\n      <td>NaN</td>\n      <td>Eringate / Bloordale Gardens / Old Burnhamthor...</td>\n      <td>M9C</td>\n    </tr>\n    <tr>\n      <th>27</th>\n      <td>Scarborough</td>\n      <td>NaN</td>\n      <td>NaN</td>\n      <td>Guildwood / Morningside / West Hill</td>\n      <td>M1E</td>\n    </tr>\n    <tr>\n      <th>30</th>\n      <td>East Toronto</td>\n      <td>NaN</td>\n      <td>NaN</td>\n      <td>The Beaches</td>\n      <td>M4E</td>\n    </tr>\n    <tr>\n      <th>31</th>\n      <td>Downtown Toronto</td>\n      <td>NaN</td>\n      <td>NaN</td>\n      <td>Berczy Park</td>\n      <td>M5E</td>\n    </tr>\n    <tr>\n      <th>32</th>\n      <td>York</td>\n      <td>NaN</td>\n      <td>NaN</td>\n      <td>Caledonia-Fairbanks</td>\n      <td>M6E</td>\n    </tr>\n    <tr>\n      <th>36</th>\n      <td>Scarborough</td>\n      <td>NaN</td>\n      <td>NaN</td>\n      <td>Woburn</td>\n      <td>M1G</td>\n    </tr>\n    <tr>\n      <th>39</th>\n      <td>East York</td>\n      <td>NaN</td>\n      <td>NaN</td>\n      <td>Leaside</td>\n      <td>M4G</td>\n    </tr>\n    <tr>\n      <th>40</th>\n      <td>Downtown Toronto</td>\n      <td>NaN</td>\n      <td>NaN</td>\n      <td>Central Bay Street</td>\n      <td>M5G</td>\n    </tr>\n    <tr>\n      <th>41</th>\n      <td>Downtown Toronto</td>\n      <td>NaN</td>\n      <td>NaN</td>\n      <td>Christie</td>\n      <td>M6G</td>\n    </tr>\n    <tr>\n      <th>45</th>\n      <td>Scarborough</td>\n      <td>NaN</td>\n      <td>NaN</td>\n      <td>Cedarbrae</td>\n      <td>M1H</td>\n    </tr>\n    <tr>\n      <th>46</th>\n      <td>North York</td>\n      <td>NaN</td>\n      <td>NaN</td>\n      <td>Hillcrest Village</td>\n      <td>M2H</td>\n    </tr>\n    <tr>\n      <th>47</th>\n      <td>North York</td>\n      <td>NaN</td>\n      <td>NaN</td>\n      <td>Bathurst Manor / Wilson Heights / Downsview North</td>\n      <td>M3H</td>\n    </tr>\n    <tr>\n      <th>48</th>\n      <td>East York</td>\n      <td>NaN</td>\n      <td>NaN</td>\n      <td>Thorncliffe Park</td>\n      <td>M4H</td>\n    </tr>\n    <tr>\n      <th>...</th>\n      <td>...</td>\n      <td>...</td>\n      <td>...</td>\n      <td>...</td>\n      <td>...</td>\n    </tr>\n    <tr>\n      <th>73</th>\n      <td>NaN</td>\n      <td>43.693781</td>\n      <td>-79.428191</td>\n      <td>NaN</td>\n      <td>M6C</td>\n    </tr>\n    <tr>\n      <th>74</th>\n      <td>NaN</td>\n      <td>43.689026</td>\n      <td>-79.453512</td>\n      <td>NaN</td>\n      <td>M6E</td>\n    </tr>\n    <tr>\n      <th>75</th>\n      <td>NaN</td>\n      <td>43.669542</td>\n      <td>-79.422564</td>\n      <td>NaN</td>\n      <td>M6G</td>\n    </tr>\n    <tr>\n      <th>76</th>\n      <td>NaN</td>\n      <td>43.669005</td>\n      <td>-79.442259</td>\n      <td>NaN</td>\n      <td>M6H</td>\n    </tr>\n    <tr>\n      <th>77</th>\n      <td>NaN</td>\n      <td>43.647927</td>\n      <td>-79.419750</td>\n      <td>NaN</td>\n      <td>M6J</td>\n    </tr>\n    <tr>\n      <th>78</th>\n      <td>NaN</td>\n      <td>43.636847</td>\n      <td>-79.428191</td>\n      <td>NaN</td>\n      <td>M6K</td>\n    </tr>\n    <tr>\n      <th>79</th>\n      <td>NaN</td>\n      <td>43.713756</td>\n      <td>-79.490074</td>\n      <td>NaN</td>\n      <td>M6L</td>\n    </tr>\n    <tr>\n      <th>80</th>\n      <td>NaN</td>\n      <td>43.691116</td>\n      <td>-79.476013</td>\n      <td>NaN</td>\n      <td>M6M</td>\n    </tr>\n    <tr>\n      <th>81</th>\n      <td>NaN</td>\n      <td>43.673185</td>\n      <td>-79.487262</td>\n      <td>NaN</td>\n      <td>M6N</td>\n    </tr>\n    <tr>\n      <th>82</th>\n      <td>NaN</td>\n      <td>43.661608</td>\n      <td>-79.464763</td>\n      <td>NaN</td>\n      <td>M6P</td>\n    </tr>\n    <tr>\n      <th>83</th>\n      <td>NaN</td>\n      <td>43.648960</td>\n      <td>-79.456325</td>\n      <td>NaN</td>\n      <td>M6R</td>\n    </tr>\n    <tr>\n      <th>84</th>\n      <td>NaN</td>\n      <td>43.651571</td>\n      <td>-79.484450</td>\n      <td>NaN</td>\n      <td>M6S</td>\n    </tr>\n    <tr>\n      <th>85</th>\n      <td>NaN</td>\n      <td>43.662301</td>\n      <td>-79.389494</td>\n      <td>NaN</td>\n      <td>M7A</td>\n    </tr>\n    <tr>\n      <th>86</th>\n      <td>NaN</td>\n      <td>43.636966</td>\n      <td>-79.615819</td>\n      <td>NaN</td>\n      <td>M7R</td>\n    </tr>\n    <tr>\n      <th>87</th>\n      <td>NaN</td>\n      <td>43.662744</td>\n      <td>-79.321558</td>\n      <td>NaN</td>\n      <td>M7Y</td>\n    </tr>\n    <tr>\n      <th>88</th>\n      <td>NaN</td>\n      <td>43.605647</td>\n      <td>-79.501321</td>\n      <td>NaN</td>\n      <td>M8V</td>\n    </tr>\n    <tr>\n      <th>89</th>\n      <td>NaN</td>\n      <td>43.602414</td>\n      <td>-79.543484</td>\n      <td>NaN</td>\n      <td>M8W</td>\n    </tr>\n    <tr>\n      <th>90</th>\n      <td>NaN</td>\n      <td>43.653654</td>\n      <td>-79.506944</td>\n      <td>NaN</td>\n      <td>M8X</td>\n    </tr>\n    <tr>\n      <th>91</th>\n      <td>NaN</td>\n      <td>43.636258</td>\n      <td>-79.498509</td>\n      <td>NaN</td>\n      <td>M8Y</td>\n    </tr>\n    <tr>\n      <th>92</th>\n      <td>NaN</td>\n      <td>43.628841</td>\n      <td>-79.520999</td>\n      <td>NaN</td>\n      <td>M8Z</td>\n    </tr>\n    <tr>\n      <th>93</th>\n      <td>NaN</td>\n      <td>43.667856</td>\n      <td>-79.532242</td>\n      <td>NaN</td>\n      <td>M9A</td>\n    </tr>\n    <tr>\n      <th>94</th>\n      <td>NaN</td>\n      <td>43.650943</td>\n      <td>-79.554724</td>\n      <td>NaN</td>\n      <td>M9B</td>\n    </tr>\n    <tr>\n      <th>95</th>\n      <td>NaN</td>\n      <td>43.643515</td>\n      <td>-79.577201</td>\n      <td>NaN</td>\n      <td>M9C</td>\n    </tr>\n    <tr>\n      <th>96</th>\n      <td>NaN</td>\n      <td>43.756303</td>\n      <td>-79.565963</td>\n      <td>NaN</td>\n      <td>M9L</td>\n    </tr>\n    <tr>\n      <th>97</th>\n      <td>NaN</td>\n      <td>43.724766</td>\n      <td>-79.532242</td>\n      <td>NaN</td>\n      <td>M9M</td>\n    </tr>\n    <tr>\n      <th>98</th>\n      <td>NaN</td>\n      <td>43.706876</td>\n      <td>-79.518188</td>\n      <td>NaN</td>\n      <td>M9N</td>\n    </tr>\n    <tr>\n      <th>99</th>\n      <td>NaN</td>\n      <td>43.696319</td>\n      <td>-79.532242</td>\n      <td>NaN</td>\n      <td>M9P</td>\n    </tr>\n    <tr>\n      <th>100</th>\n      <td>NaN</td>\n      <td>43.688905</td>\n      <td>-79.554724</td>\n      <td>NaN</td>\n      <td>M9R</td>\n    </tr>\n    <tr>\n      <th>101</th>\n      <td>NaN</td>\n      <td>43.739416</td>\n      <td>-79.588437</td>\n      <td>NaN</td>\n      <td>M9V</td>\n    </tr>\n    <tr>\n      <th>102</th>\n      <td>NaN</td>\n      <td>43.706748</td>\n      <td>-79.594054</td>\n      <td>NaN</td>\n      <td>M9W</td>\n    </tr>\n  </tbody>\n</table>\n<p>206 rows \u00d7 5 columns</p>\n</div>",
                        "text/plain": "              Borough   Latitude  Longitude  \\\n2          North York        NaN        NaN   \n3          North York        NaN        NaN   \n4    Downtown Toronto        NaN        NaN   \n5          North York        NaN        NaN   \n6    Downtown Toronto        NaN        NaN   \n8           Etobicoke        NaN        NaN   \n9         Scarborough        NaN        NaN   \n11         North York        NaN        NaN   \n12          East York        NaN        NaN   \n13   Downtown Toronto        NaN        NaN   \n14         North York        NaN        NaN   \n17          Etobicoke        NaN        NaN   \n18        Scarborough        NaN        NaN   \n20         North York        NaN        NaN   \n21          East York        NaN        NaN   \n22   Downtown Toronto        NaN        NaN   \n23               York        NaN        NaN   \n26          Etobicoke        NaN        NaN   \n27        Scarborough        NaN        NaN   \n30       East Toronto        NaN        NaN   \n31   Downtown Toronto        NaN        NaN   \n32               York        NaN        NaN   \n36        Scarborough        NaN        NaN   \n39          East York        NaN        NaN   \n40   Downtown Toronto        NaN        NaN   \n41   Downtown Toronto        NaN        NaN   \n45        Scarborough        NaN        NaN   \n46         North York        NaN        NaN   \n47         North York        NaN        NaN   \n48          East York        NaN        NaN   \n..                ...        ...        ...   \n73                NaN  43.693781 -79.428191   \n74                NaN  43.689026 -79.453512   \n75                NaN  43.669542 -79.422564   \n76                NaN  43.669005 -79.442259   \n77                NaN  43.647927 -79.419750   \n78                NaN  43.636847 -79.428191   \n79                NaN  43.713756 -79.490074   \n80                NaN  43.691116 -79.476013   \n81                NaN  43.673185 -79.487262   \n82                NaN  43.661608 -79.464763   \n83                NaN  43.648960 -79.456325   \n84                NaN  43.651571 -79.484450   \n85                NaN  43.662301 -79.389494   \n86                NaN  43.636966 -79.615819   \n87                NaN  43.662744 -79.321558   \n88                NaN  43.605647 -79.501321   \n89                NaN  43.602414 -79.543484   \n90                NaN  43.653654 -79.506944   \n91                NaN  43.636258 -79.498509   \n92                NaN  43.628841 -79.520999   \n93                NaN  43.667856 -79.532242   \n94                NaN  43.650943 -79.554724   \n95                NaN  43.643515 -79.577201   \n96                NaN  43.756303 -79.565963   \n97                NaN  43.724766 -79.532242   \n98                NaN  43.706876 -79.518188   \n99                NaN  43.696319 -79.532242   \n100               NaN  43.688905 -79.554724   \n101               NaN  43.739416 -79.588437   \n102               NaN  43.706748 -79.594054   \n\n                                          Neighborhood PostalCode  \n2                                            Parkwoods        M3A  \n3                                     Victoria Village        M4A  \n4                           Regent Park / Harbourfront        M5A  \n5                    Lawrence Manor / Lawrence Heights        M6A  \n6         Queen's Park / Ontario Provincial Government        M7A  \n8                                     Islington Avenue        M9A  \n9                                      Malvern / Rouge        M1B  \n11                                           Don Mills        M3B  \n12                    Parkview Hill / Woodbine Gardens        M4B  \n13                            Garden District, Ryerson        M5B  \n14                                           Glencairn        M6B  \n17   West Deane Park / Princess Gardens / Martin Gr...        M9B  \n18            Rouge Hill / Port Union / Highland Creek        M1C  \n20                                           Don Mills        M3C  \n21                                    Woodbine Heights        M4C  \n22                                      St. James Town        M5C  \n23                                  Humewood-Cedarvale        M6C  \n26   Eringate / Bloordale Gardens / Old Burnhamthor...        M9C  \n27                 Guildwood / Morningside / West Hill        M1E  \n30                                         The Beaches        M4E  \n31                                         Berczy Park        M5E  \n32                                 Caledonia-Fairbanks        M6E  \n36                                              Woburn        M1G  \n39                                             Leaside        M4G  \n40                                  Central Bay Street        M5G  \n41                                            Christie        M6G  \n45                                           Cedarbrae        M1H  \n46                                   Hillcrest Village        M2H  \n47   Bathurst Manor / Wilson Heights / Downsview North        M3H  \n48                                    Thorncliffe Park        M4H  \n..                                                 ...        ...  \n73                                                 NaN        M6C  \n74                                                 NaN        M6E  \n75                                                 NaN        M6G  \n76                                                 NaN        M6H  \n77                                                 NaN        M6J  \n78                                                 NaN        M6K  \n79                                                 NaN        M6L  \n80                                                 NaN        M6M  \n81                                                 NaN        M6N  \n82                                                 NaN        M6P  \n83                                                 NaN        M6R  \n84                                                 NaN        M6S  \n85                                                 NaN        M7A  \n86                                                 NaN        M7R  \n87                                                 NaN        M7Y  \n88                                                 NaN        M8V  \n89                                                 NaN        M8W  \n90                                                 NaN        M8X  \n91                                                 NaN        M8Y  \n92                                                 NaN        M8Z  \n93                                                 NaN        M9A  \n94                                                 NaN        M9B  \n95                                                 NaN        M9C  \n96                                                 NaN        M9L  \n97                                                 NaN        M9M  \n98                                                 NaN        M9N  \n99                                                 NaN        M9P  \n100                                                NaN        M9R  \n101                                                NaN        M9V  \n102                                                NaN        M9W  \n\n[206 rows x 5 columns]"
                    },
                    "execution_count": 105,
                    "metadata": {},
                    "output_type": "execute_result"
                }
            ],
            "source": "#pd.concat([df_Codes, df_Coordination], sort=False)\npd.concat([df_Codes, df_Coordination], join=\"outer\")"
        },
        {
            "cell_type": "code",
            "execution_count": null,
            "metadata": {},
            "outputs": [],
            "source": ""
        }
    ],
    "metadata": {
        "kernelspec": {
            "display_name": "Python 3.6",
            "language": "python",
            "name": "python3"
        },
        "language_info": {
            "codemirror_mode": {
                "name": "ipython",
                "version": 3
            },
            "file_extension": ".py",
            "mimetype": "text/x-python",
            "name": "python",
            "nbconvert_exporter": "python",
            "pygments_lexer": "ipython3",
            "version": "3.6.9"
        }
    },
    "nbformat": 4,
    "nbformat_minor": 1
}